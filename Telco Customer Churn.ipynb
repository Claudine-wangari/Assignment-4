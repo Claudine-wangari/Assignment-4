{
 "cells": [
  {
   "cell_type": "markdown",
   "metadata": {},
   "source": [
    "# Imports Required"
   ]
  },
  {
   "cell_type": "code",
   "execution_count": 1,
   "metadata": {},
   "outputs": [],
   "source": [
    "import pandas as pd"
   ]
  },
  {
   "cell_type": "markdown",
   "metadata": {},
   "source": [
    "# Importing Data"
   ]
  },
  {
   "cell_type": "code",
   "execution_count": 2,
   "metadata": {},
   "outputs": [],
   "source": [
    "churn= pd. read_csv(\"Telco-Customer-Churn.csv\")"
   ]
  },
  {
   "cell_type": "markdown",
   "metadata": {},
   "source": [
    "### Understanding the Dataset"
   ]
  },
  {
   "cell_type": "code",
   "execution_count": 3,
   "metadata": {},
   "outputs": [
    {
     "name": "stdout",
     "output_type": "stream",
     "text": [
      "<class 'pandas.core.frame.DataFrame'>\n",
      "RangeIndex: 7043 entries, 0 to 7042\n",
      "Data columns (total 21 columns):\n",
      " #   Column            Non-Null Count  Dtype  \n",
      "---  ------            --------------  -----  \n",
      " 0   customerID        7043 non-null   object \n",
      " 1   gender            7043 non-null   object \n",
      " 2   SeniorCitizen     7043 non-null   int64  \n",
      " 3   Partner           7043 non-null   object \n",
      " 4   Dependents        7043 non-null   object \n",
      " 5   tenure            7043 non-null   int64  \n",
      " 6   PhoneService      7043 non-null   object \n",
      " 7   MultipleLines     7043 non-null   object \n",
      " 8   InternetService   7043 non-null   object \n",
      " 9   OnlineSecurity    7043 non-null   object \n",
      " 10  OnlineBackup      7043 non-null   object \n",
      " 11  DeviceProtection  7043 non-null   object \n",
      " 12  TechSupport       7043 non-null   object \n",
      " 13  StreamingTV       7043 non-null   object \n",
      " 14  StreamingMovies   7043 non-null   object \n",
      " 15  Contract          7043 non-null   object \n",
      " 16  PaperlessBilling  7043 non-null   object \n",
      " 17  PaymentMethod     7043 non-null   object \n",
      " 18  MonthlyCharges    7043 non-null   float64\n",
      " 19  TotalCharges      7043 non-null   object \n",
      " 20  Churn             7043 non-null   object \n",
      "dtypes: float64(1), int64(2), object(18)\n",
      "memory usage: 1.1+ MB\n"
     ]
    }
   ],
   "source": [
    "# Information on the dataset\n",
    "churn.info()"
   ]
  },
  {
   "cell_type": "code",
   "execution_count": 4,
   "metadata": {},
   "outputs": [
    {
     "data": {
      "text/plain": [
       "customerID          False\n",
       "gender              False\n",
       "SeniorCitizen       False\n",
       "Partner             False\n",
       "Dependents          False\n",
       "tenure              False\n",
       "PhoneService        False\n",
       "MultipleLines       False\n",
       "InternetService     False\n",
       "OnlineSecurity      False\n",
       "OnlineBackup        False\n",
       "DeviceProtection    False\n",
       "TechSupport         False\n",
       "StreamingTV         False\n",
       "StreamingMovies     False\n",
       "Contract            False\n",
       "PaperlessBilling    False\n",
       "PaymentMethod       False\n",
       "MonthlyCharges      False\n",
       "TotalCharges        False\n",
       "Churn               False\n",
       "dtype: bool"
      ]
     },
     "metadata": {},
     "output_type": "display_data"
    }
   ],
   "source": [
    "#Checking if the dataset has any null values\n",
    "display(churn.isnull().any())"
   ]
  },
  {
   "cell_type": "markdown",
   "metadata": {},
   "source": [
    "# Question 1:Demographic"
   ]
  },
  {
   "cell_type": "markdown",
   "metadata": {},
   "source": [
    "### a. Which 2 demographics have proven to be the most popular with the telco brand?"
   ]
  },
  {
   "cell_type": "code",
   "execution_count": 5,
   "metadata": {},
   "outputs": [
    {
     "data": {
      "text/plain": [
       "Male      3555\n",
       "Female    3488\n",
       "Name: gender, dtype: int64"
      ]
     },
     "execution_count": 5,
     "metadata": {},
     "output_type": "execute_result"
    }
   ],
   "source": [
    "#Demographics would be considered by Gender and If one is a senior Citizen or Not.\n",
    "#In terms of Gender\n",
    "churn['gender'].value_counts()"
   ]
  },
  {
   "cell_type": "code",
   "execution_count": 6,
   "metadata": {},
   "outputs": [
    {
     "data": {
      "text/plain": [
       "0    5901\n",
       "1    1142\n",
       "Name: SeniorCitizen, dtype: int64"
      ]
     },
     "execution_count": 6,
     "metadata": {},
     "output_type": "execute_result"
    }
   ],
   "source": [
    "#In terms of Senior Citizens where 0 would be a young citizen and 1 a senior citizen\n",
    "churn['SeniorCitizen'].value_counts()"
   ]
  },
  {
   "cell_type": "code",
   "execution_count": 7,
   "metadata": {},
   "outputs": [
    {
     "data": {
      "text/plain": [
       "gender  SeniorCitizen\n",
       "Female  0                2920\n",
       "        1                 568\n",
       "Male    0                2981\n",
       "        1                 574\n",
       "dtype: int64"
      ]
     },
     "execution_count": 7,
     "metadata": {},
     "output_type": "execute_result"
    }
   ],
   "source": [
    "#In terms of both Gender and Senior Citizens\n",
    "churn.groupby(['gender', 'SeniorCitizen']).size()"
   ]
  },
  {
   "cell_type": "markdown",
   "metadata": {},
   "source": [
    "###### Conclusion\n",
    "<br> \n",
    "*Males are more popular with the telco brand. \n",
    "<br> \n",
    "*Non-SeniorCitizens(Young Citizens) are more popular with the telco brand.\n",
    "<br>\n",
    "*Therefore, Males who are non-SeniorCitizens are most popular with the brand "
   ]
  },
  {
   "cell_type": "markdown",
   "metadata": {},
   "source": [
    "### b. If the marketing team wanted to increase customer retention, to whom should they target their advertisements to?"
   ]
  },
  {
   "cell_type": "code",
   "execution_count": 8,
   "metadata": {},
   "outputs": [
    {
     "data": {
      "text/plain": [
       "gender  tenure  SeniorCitizen\n",
       "Female  0       0                  5\n",
       "        1       0                237\n",
       "                1                 47\n",
       "        2       0                105\n",
       "                1                 25\n",
       "                                ... \n",
       "Male    70      1                  7\n",
       "        71      0                 68\n",
       "                1                 18\n",
       "        72      0                156\n",
       "                1                 29\n",
       "Length: 290, dtype: int64"
      ]
     },
     "execution_count": 8,
     "metadata": {},
     "output_type": "execute_result"
    }
   ],
   "source": [
    "#To increase customer retention, It is cheaper and easier to advertise to already exisiting customers rather than new customers\n",
    "#In this case it would be better to advertise for a group that has many existing customers\n",
    "#To be more specific about the best group to advertize to, we use Gender,SeniorCitizen and Tenure(How many months the customer has used the brand)\n",
    "churn.groupby(['gender','tenure','SeniorCitizen']).size()"
   ]
  },
  {
   "cell_type": "markdown",
   "metadata": {},
   "source": [
    "###### Conclusion\n",
    "<br>\n",
    "->From above analysis, generally:\n",
    "<br>\n",
    "*In terms of Gender, Males would be best to advertise to.\n",
    "<br>\n",
    "*In terms of SeniorCitizen, the Non-SeniorCitizens(Young citizens) would be the best to advertise to.\n",
    "<br>\n",
    "*In terms of Tenure, those who have been using the brand for 1 month are the best to advertize to.\n",
    "<br> <br>\n",
    "->More Specifically:\n",
    "<br>\n",
    "*The best groups to target would be:\n",
    "<br>\n",
    "*Non-SeniorCitizen Males who have been using the brand for 1 month as this will reduce their churn.\n",
    "<br>\n",
    "*Non-SeniorCitizen Females who have been using the brand for 1 month as this will reduce their churn numbers.\n",
    "<br> <br>\n",
    "->Other groups to consider:\n",
    "<br>\n",
    "*Non-SeniorCitizen Males who have been using the brand for 72 months\n",
    "<br>\n",
    "*Non-SeniorCitizen Females who have been using the brand for 72 months\n",
    "<br>\n",
    "*Non-SeniorCitizen Females who have been using the brand for 2 months\n",
    "<br>\n",
    "*Non-SeniorCitizen Males who have been using the brand for 2 months"
   ]
  },
  {
   "cell_type": "markdown",
   "metadata": {},
   "source": [
    "# Question 2: Services"
   ]
  },
  {
   "cell_type": "markdown",
   "metadata": {},
   "source": [
    "### a. Which 3 services are contributing to a higher monthly charge and resulting to customers churning? (Use visualizations in explaining your analysis)"
   ]
  },
  {
   "cell_type": "code",
   "execution_count": 9,
   "metadata": {},
   "outputs": [
    {
     "data": {
      "text/html": [
       "<div>\n",
       "<style scoped>\n",
       "    .dataframe tbody tr th:only-of-type {\n",
       "        vertical-align: middle;\n",
       "    }\n",
       "\n",
       "    .dataframe tbody tr th {\n",
       "        vertical-align: top;\n",
       "    }\n",
       "\n",
       "    .dataframe thead th {\n",
       "        text-align: right;\n",
       "    }\n",
       "</style>\n",
       "<table border=\"1\" class=\"dataframe\">\n",
       "  <thead>\n",
       "    <tr style=\"text-align: right;\">\n",
       "      <th></th>\n",
       "      <th>customerID</th>\n",
       "      <th>gender</th>\n",
       "      <th>SeniorCitizen</th>\n",
       "      <th>Partner</th>\n",
       "      <th>Dependents</th>\n",
       "      <th>tenure</th>\n",
       "      <th>PhoneService</th>\n",
       "      <th>MultipleLines</th>\n",
       "      <th>InternetService</th>\n",
       "      <th>OnlineSecurity</th>\n",
       "      <th>...</th>\n",
       "      <th>DeviceProtection</th>\n",
       "      <th>TechSupport</th>\n",
       "      <th>StreamingTV</th>\n",
       "      <th>StreamingMovies</th>\n",
       "      <th>Contract</th>\n",
       "      <th>PaperlessBilling</th>\n",
       "      <th>PaymentMethod</th>\n",
       "      <th>MonthlyCharges</th>\n",
       "      <th>TotalCharges</th>\n",
       "      <th>Churn</th>\n",
       "    </tr>\n",
       "  </thead>\n",
       "  <tbody>\n",
       "    <tr>\n",
       "      <th>6294</th>\n",
       "      <td>6615-ZGEDR</td>\n",
       "      <td>Male</td>\n",
       "      <td>0</td>\n",
       "      <td>No</td>\n",
       "      <td>No</td>\n",
       "      <td>1</td>\n",
       "      <td>Yes</td>\n",
       "      <td>No</td>\n",
       "      <td>No</td>\n",
       "      <td>No internet service</td>\n",
       "      <td>...</td>\n",
       "      <td>No internet service</td>\n",
       "      <td>No internet service</td>\n",
       "      <td>No internet service</td>\n",
       "      <td>No internet service</td>\n",
       "      <td>Month-to-month</td>\n",
       "      <td>No</td>\n",
       "      <td>Mailed check</td>\n",
       "      <td>19.70</td>\n",
       "      <td>19.7</td>\n",
       "      <td>Yes</td>\n",
       "    </tr>\n",
       "    <tr>\n",
       "      <th>6201</th>\n",
       "      <td>6458-CYIDZ</td>\n",
       "      <td>Female</td>\n",
       "      <td>1</td>\n",
       "      <td>No</td>\n",
       "      <td>No</td>\n",
       "      <td>5</td>\n",
       "      <td>Yes</td>\n",
       "      <td>No</td>\n",
       "      <td>Fiber optic</td>\n",
       "      <td>Yes</td>\n",
       "      <td>...</td>\n",
       "      <td>No</td>\n",
       "      <td>No</td>\n",
       "      <td>No</td>\n",
       "      <td>No</td>\n",
       "      <td>Month-to-month</td>\n",
       "      <td>No</td>\n",
       "      <td>Electronic check</td>\n",
       "      <td>80.70</td>\n",
       "      <td>374.8</td>\n",
       "      <td>No</td>\n",
       "    </tr>\n",
       "    <tr>\n",
       "      <th>4223</th>\n",
       "      <td>4029-HPFVY</td>\n",
       "      <td>Male</td>\n",
       "      <td>0</td>\n",
       "      <td>No</td>\n",
       "      <td>No</td>\n",
       "      <td>3</td>\n",
       "      <td>Yes</td>\n",
       "      <td>No</td>\n",
       "      <td>Fiber optic</td>\n",
       "      <td>No</td>\n",
       "      <td>...</td>\n",
       "      <td>No</td>\n",
       "      <td>No</td>\n",
       "      <td>No</td>\n",
       "      <td>No</td>\n",
       "      <td>Month-to-month</td>\n",
       "      <td>Yes</td>\n",
       "      <td>Mailed check</td>\n",
       "      <td>70.30</td>\n",
       "      <td>220.4</td>\n",
       "      <td>No</td>\n",
       "    </tr>\n",
       "    <tr>\n",
       "      <th>6992</th>\n",
       "      <td>0218-QNVAS</td>\n",
       "      <td>Male</td>\n",
       "      <td>0</td>\n",
       "      <td>Yes</td>\n",
       "      <td>Yes</td>\n",
       "      <td>71</td>\n",
       "      <td>Yes</td>\n",
       "      <td>Yes</td>\n",
       "      <td>Fiber optic</td>\n",
       "      <td>No</td>\n",
       "      <td>...</td>\n",
       "      <td>No</td>\n",
       "      <td>No</td>\n",
       "      <td>Yes</td>\n",
       "      <td>Yes</td>\n",
       "      <td>One year</td>\n",
       "      <td>No</td>\n",
       "      <td>Bank transfer (automatic)</td>\n",
       "      <td>100.55</td>\n",
       "      <td>7113.75</td>\n",
       "      <td>No</td>\n",
       "    </tr>\n",
       "    <tr>\n",
       "      <th>6739</th>\n",
       "      <td>6994-KERXL</td>\n",
       "      <td>Male</td>\n",
       "      <td>0</td>\n",
       "      <td>No</td>\n",
       "      <td>No</td>\n",
       "      <td>4</td>\n",
       "      <td>Yes</td>\n",
       "      <td>No</td>\n",
       "      <td>DSL</td>\n",
       "      <td>No</td>\n",
       "      <td>...</td>\n",
       "      <td>No</td>\n",
       "      <td>No</td>\n",
       "      <td>No</td>\n",
       "      <td>Yes</td>\n",
       "      <td>Month-to-month</td>\n",
       "      <td>Yes</td>\n",
       "      <td>Electronic check</td>\n",
       "      <td>55.90</td>\n",
       "      <td>238.5</td>\n",
       "      <td>No</td>\n",
       "    </tr>\n",
       "    <tr>\n",
       "      <th>677</th>\n",
       "      <td>0822-GAVAP</td>\n",
       "      <td>Female</td>\n",
       "      <td>0</td>\n",
       "      <td>No</td>\n",
       "      <td>No</td>\n",
       "      <td>2</td>\n",
       "      <td>No</td>\n",
       "      <td>No phone service</td>\n",
       "      <td>DSL</td>\n",
       "      <td>No</td>\n",
       "      <td>...</td>\n",
       "      <td>No</td>\n",
       "      <td>No</td>\n",
       "      <td>No</td>\n",
       "      <td>Yes</td>\n",
       "      <td>Month-to-month</td>\n",
       "      <td>Yes</td>\n",
       "      <td>Electronic check</td>\n",
       "      <td>34.70</td>\n",
       "      <td>62.25</td>\n",
       "      <td>Yes</td>\n",
       "    </tr>\n",
       "    <tr>\n",
       "      <th>6444</th>\n",
       "      <td>6302-JGYRJ</td>\n",
       "      <td>Male</td>\n",
       "      <td>0</td>\n",
       "      <td>No</td>\n",
       "      <td>Yes</td>\n",
       "      <td>31</td>\n",
       "      <td>Yes</td>\n",
       "      <td>Yes</td>\n",
       "      <td>DSL</td>\n",
       "      <td>No</td>\n",
       "      <td>...</td>\n",
       "      <td>No</td>\n",
       "      <td>Yes</td>\n",
       "      <td>Yes</td>\n",
       "      <td>Yes</td>\n",
       "      <td>One year</td>\n",
       "      <td>Yes</td>\n",
       "      <td>Mailed check</td>\n",
       "      <td>79.45</td>\n",
       "      <td>2587.7</td>\n",
       "      <td>Yes</td>\n",
       "    </tr>\n",
       "    <tr>\n",
       "      <th>4870</th>\n",
       "      <td>5825-XJOCM</td>\n",
       "      <td>Male</td>\n",
       "      <td>0</td>\n",
       "      <td>No</td>\n",
       "      <td>Yes</td>\n",
       "      <td>48</td>\n",
       "      <td>Yes</td>\n",
       "      <td>Yes</td>\n",
       "      <td>DSL</td>\n",
       "      <td>Yes</td>\n",
       "      <td>...</td>\n",
       "      <td>Yes</td>\n",
       "      <td>No</td>\n",
       "      <td>No</td>\n",
       "      <td>No</td>\n",
       "      <td>One year</td>\n",
       "      <td>Yes</td>\n",
       "      <td>Bank transfer (automatic)</td>\n",
       "      <td>64.40</td>\n",
       "      <td>3035.35</td>\n",
       "      <td>No</td>\n",
       "    </tr>\n",
       "    <tr>\n",
       "      <th>4702</th>\n",
       "      <td>6008-NAIXK</td>\n",
       "      <td>Male</td>\n",
       "      <td>1</td>\n",
       "      <td>No</td>\n",
       "      <td>No</td>\n",
       "      <td>54</td>\n",
       "      <td>No</td>\n",
       "      <td>No phone service</td>\n",
       "      <td>DSL</td>\n",
       "      <td>No</td>\n",
       "      <td>...</td>\n",
       "      <td>Yes</td>\n",
       "      <td>No</td>\n",
       "      <td>Yes</td>\n",
       "      <td>Yes</td>\n",
       "      <td>One year</td>\n",
       "      <td>Yes</td>\n",
       "      <td>Electronic check</td>\n",
       "      <td>55.45</td>\n",
       "      <td>2966.95</td>\n",
       "      <td>No</td>\n",
       "    </tr>\n",
       "    <tr>\n",
       "      <th>2361</th>\n",
       "      <td>5103-MHMHY</td>\n",
       "      <td>Female</td>\n",
       "      <td>0</td>\n",
       "      <td>No</td>\n",
       "      <td>Yes</td>\n",
       "      <td>1</td>\n",
       "      <td>Yes</td>\n",
       "      <td>No</td>\n",
       "      <td>DSL</td>\n",
       "      <td>No</td>\n",
       "      <td>...</td>\n",
       "      <td>No</td>\n",
       "      <td>No</td>\n",
       "      <td>No</td>\n",
       "      <td>No</td>\n",
       "      <td>Month-to-month</td>\n",
       "      <td>No</td>\n",
       "      <td>Mailed check</td>\n",
       "      <td>45.95</td>\n",
       "      <td>45.95</td>\n",
       "      <td>Yes</td>\n",
       "    </tr>\n",
       "  </tbody>\n",
       "</table>\n",
       "<p>10 rows × 21 columns</p>\n",
       "</div>"
      ],
      "text/plain": [
       "      customerID  gender  SeniorCitizen Partner Dependents  tenure  \\\n",
       "6294  6615-ZGEDR    Male              0      No         No       1   \n",
       "6201  6458-CYIDZ  Female              1      No         No       5   \n",
       "4223  4029-HPFVY    Male              0      No         No       3   \n",
       "6992  0218-QNVAS    Male              0     Yes        Yes      71   \n",
       "6739  6994-KERXL    Male              0      No         No       4   \n",
       "677   0822-GAVAP  Female              0      No         No       2   \n",
       "6444  6302-JGYRJ    Male              0      No        Yes      31   \n",
       "4870  5825-XJOCM    Male              0      No        Yes      48   \n",
       "4702  6008-NAIXK    Male              1      No         No      54   \n",
       "2361  5103-MHMHY  Female              0      No        Yes       1   \n",
       "\n",
       "     PhoneService     MultipleLines InternetService       OnlineSecurity  ...  \\\n",
       "6294          Yes                No              No  No internet service  ...   \n",
       "6201          Yes                No     Fiber optic                  Yes  ...   \n",
       "4223          Yes                No     Fiber optic                   No  ...   \n",
       "6992          Yes               Yes     Fiber optic                   No  ...   \n",
       "6739          Yes                No             DSL                   No  ...   \n",
       "677            No  No phone service             DSL                   No  ...   \n",
       "6444          Yes               Yes             DSL                   No  ...   \n",
       "4870          Yes               Yes             DSL                  Yes  ...   \n",
       "4702           No  No phone service             DSL                   No  ...   \n",
       "2361          Yes                No             DSL                   No  ...   \n",
       "\n",
       "         DeviceProtection          TechSupport          StreamingTV  \\\n",
       "6294  No internet service  No internet service  No internet service   \n",
       "6201                   No                   No                   No   \n",
       "4223                   No                   No                   No   \n",
       "6992                   No                   No                  Yes   \n",
       "6739                   No                   No                   No   \n",
       "677                    No                   No                   No   \n",
       "6444                   No                  Yes                  Yes   \n",
       "4870                  Yes                   No                   No   \n",
       "4702                  Yes                   No                  Yes   \n",
       "2361                   No                   No                   No   \n",
       "\n",
       "          StreamingMovies        Contract PaperlessBilling  \\\n",
       "6294  No internet service  Month-to-month               No   \n",
       "6201                   No  Month-to-month               No   \n",
       "4223                   No  Month-to-month              Yes   \n",
       "6992                  Yes        One year               No   \n",
       "6739                  Yes  Month-to-month              Yes   \n",
       "677                   Yes  Month-to-month              Yes   \n",
       "6444                  Yes        One year              Yes   \n",
       "4870                   No        One year              Yes   \n",
       "4702                  Yes        One year              Yes   \n",
       "2361                   No  Month-to-month               No   \n",
       "\n",
       "                  PaymentMethod MonthlyCharges  TotalCharges Churn  \n",
       "6294               Mailed check          19.70          19.7   Yes  \n",
       "6201           Electronic check          80.70         374.8    No  \n",
       "4223               Mailed check          70.30         220.4    No  \n",
       "6992  Bank transfer (automatic)         100.55       7113.75    No  \n",
       "6739           Electronic check          55.90         238.5    No  \n",
       "677            Electronic check          34.70         62.25   Yes  \n",
       "6444               Mailed check          79.45        2587.7   Yes  \n",
       "4870  Bank transfer (automatic)          64.40       3035.35    No  \n",
       "4702           Electronic check          55.45       2966.95    No  \n",
       "2361               Mailed check          45.95         45.95   Yes  \n",
       "\n",
       "[10 rows x 21 columns]"
      ]
     },
     "execution_count": 9,
     "metadata": {},
     "output_type": "execute_result"
    }
   ],
   "source": [
    "#For this case we will need to manipulate the dataset to be able to analyze\n",
    "#For each service we will need to get the maximum monthly charge that is most repeated where customers actually churn\n",
    "#Making a copy of the dataset in order to avoid permanent damage to the original one\n",
    "services= churn\n",
    "services.sample(10)"
   ]
  },
  {
   "cell_type": "code",
   "execution_count": 10,
   "metadata": {},
   "outputs": [],
   "source": [
    "#Using a lambda function to replace Fiber Optic and DSL as Yes options\n",
    "services['InternetService'] = services['InternetService'].apply(lambda a: a.replace('Fiber optic',\"Yes,Fiber optic\"))\\\n",
    "                                                   .apply(lambda a: a.replace('DSL','Yes,DSL'))"
   ]
  },
  {
   "cell_type": "code",
   "execution_count": 11,
   "metadata": {},
   "outputs": [
    {
     "data": {
      "text/html": [
       "<div>\n",
       "<style scoped>\n",
       "    .dataframe tbody tr th:only-of-type {\n",
       "        vertical-align: middle;\n",
       "    }\n",
       "\n",
       "    .dataframe tbody tr th {\n",
       "        vertical-align: top;\n",
       "    }\n",
       "\n",
       "    .dataframe thead th {\n",
       "        text-align: right;\n",
       "    }\n",
       "</style>\n",
       "<table border=\"1\" class=\"dataframe\">\n",
       "  <thead>\n",
       "    <tr style=\"text-align: right;\">\n",
       "      <th></th>\n",
       "      <th>customerID</th>\n",
       "      <th>gender</th>\n",
       "      <th>SeniorCitizen</th>\n",
       "      <th>Partner</th>\n",
       "      <th>Dependents</th>\n",
       "      <th>tenure</th>\n",
       "      <th>Contract</th>\n",
       "      <th>PaperlessBilling</th>\n",
       "      <th>PaymentMethod</th>\n",
       "      <th>MonthlyCharges</th>\n",
       "      <th>TotalCharges</th>\n",
       "      <th>Churn</th>\n",
       "      <th>Service</th>\n",
       "      <th>Presence</th>\n",
       "    </tr>\n",
       "  </thead>\n",
       "  <tbody>\n",
       "    <tr>\n",
       "      <th>28348</th>\n",
       "      <td>2656-FMOKZ</td>\n",
       "      <td>Female</td>\n",
       "      <td>1</td>\n",
       "      <td>No</td>\n",
       "      <td>No</td>\n",
       "      <td>15</td>\n",
       "      <td>Month-to-month</td>\n",
       "      <td>Yes</td>\n",
       "      <td>Mailed check</td>\n",
       "      <td>74.45</td>\n",
       "      <td>1145.7</td>\n",
       "      <td>Yes</td>\n",
       "      <td>OnlineBackup</td>\n",
       "      <td>No</td>\n",
       "    </tr>\n",
       "    <tr>\n",
       "      <th>19502</th>\n",
       "      <td>8961-QDZZJ</td>\n",
       "      <td>Female</td>\n",
       "      <td>0</td>\n",
       "      <td>Yes</td>\n",
       "      <td>Yes</td>\n",
       "      <td>57</td>\n",
       "      <td>One year</td>\n",
       "      <td>Yes</td>\n",
       "      <td>Electronic check</td>\n",
       "      <td>95.00</td>\n",
       "      <td>5535.8</td>\n",
       "      <td>No</td>\n",
       "      <td>InternetService</td>\n",
       "      <td>Yes,Fiber optic</td>\n",
       "    </tr>\n",
       "    <tr>\n",
       "      <th>35914</th>\n",
       "      <td>8338-QIUNR</td>\n",
       "      <td>Male</td>\n",
       "      <td>0</td>\n",
       "      <td>Yes</td>\n",
       "      <td>Yes</td>\n",
       "      <td>72</td>\n",
       "      <td>Two year</td>\n",
       "      <td>Yes</td>\n",
       "      <td>Credit card (automatic)</td>\n",
       "      <td>66.50</td>\n",
       "      <td>4811.6</td>\n",
       "      <td>No</td>\n",
       "      <td>DeviceProtection</td>\n",
       "      <td>Yes</td>\n",
       "    </tr>\n",
       "    <tr>\n",
       "      <th>22964</th>\n",
       "      <td>8356-WUAOJ</td>\n",
       "      <td>Female</td>\n",
       "      <td>0</td>\n",
       "      <td>Yes</td>\n",
       "      <td>No</td>\n",
       "      <td>1</td>\n",
       "      <td>Month-to-month</td>\n",
       "      <td>Yes</td>\n",
       "      <td>Electronic check</td>\n",
       "      <td>45.00</td>\n",
       "      <td>45</td>\n",
       "      <td>No</td>\n",
       "      <td>OnlineSecurity</td>\n",
       "      <td>No</td>\n",
       "    </tr>\n",
       "    <tr>\n",
       "      <th>57299</th>\n",
       "      <td>9448-REEVD</td>\n",
       "      <td>Male</td>\n",
       "      <td>0</td>\n",
       "      <td>Yes</td>\n",
       "      <td>No</td>\n",
       "      <td>1</td>\n",
       "      <td>Month-to-month</td>\n",
       "      <td>No</td>\n",
       "      <td>Credit card (automatic)</td>\n",
       "      <td>44.70</td>\n",
       "      <td>44.7</td>\n",
       "      <td>Yes</td>\n",
       "      <td>StreamingMovies</td>\n",
       "      <td>No</td>\n",
       "    </tr>\n",
       "    <tr>\n",
       "      <th>17513</th>\n",
       "      <td>9919-KNPOO</td>\n",
       "      <td>Female</td>\n",
       "      <td>0</td>\n",
       "      <td>Yes</td>\n",
       "      <td>No</td>\n",
       "      <td>21</td>\n",
       "      <td>Month-to-month</td>\n",
       "      <td>Yes</td>\n",
       "      <td>Electronic check</td>\n",
       "      <td>94.30</td>\n",
       "      <td>1948.35</td>\n",
       "      <td>No</td>\n",
       "      <td>InternetService</td>\n",
       "      <td>Yes,Fiber optic</td>\n",
       "    </tr>\n",
       "    <tr>\n",
       "      <th>39960</th>\n",
       "      <td>6116-RFVHN</td>\n",
       "      <td>Female</td>\n",
       "      <td>0</td>\n",
       "      <td>Yes</td>\n",
       "      <td>No</td>\n",
       "      <td>34</td>\n",
       "      <td>Month-to-month</td>\n",
       "      <td>Yes</td>\n",
       "      <td>Electronic check</td>\n",
       "      <td>100.45</td>\n",
       "      <td>3414.65</td>\n",
       "      <td>No</td>\n",
       "      <td>DeviceProtection</td>\n",
       "      <td>Yes</td>\n",
       "    </tr>\n",
       "    <tr>\n",
       "      <th>56929</th>\n",
       "      <td>5192-EBGOV</td>\n",
       "      <td>Female</td>\n",
       "      <td>1</td>\n",
       "      <td>No</td>\n",
       "      <td>No</td>\n",
       "      <td>1</td>\n",
       "      <td>Month-to-month</td>\n",
       "      <td>Yes</td>\n",
       "      <td>Electronic check</td>\n",
       "      <td>85.70</td>\n",
       "      <td>85.7</td>\n",
       "      <td>Yes</td>\n",
       "      <td>StreamingMovies</td>\n",
       "      <td>No</td>\n",
       "    </tr>\n",
       "    <tr>\n",
       "      <th>191</th>\n",
       "      <td>2472-OVKUP</td>\n",
       "      <td>Male</td>\n",
       "      <td>0</td>\n",
       "      <td>Yes</td>\n",
       "      <td>No</td>\n",
       "      <td>6</td>\n",
       "      <td>Month-to-month</td>\n",
       "      <td>Yes</td>\n",
       "      <td>Electronic check</td>\n",
       "      <td>91.00</td>\n",
       "      <td>531</td>\n",
       "      <td>Yes</td>\n",
       "      <td>PhoneService</td>\n",
       "      <td>Yes</td>\n",
       "    </tr>\n",
       "    <tr>\n",
       "      <th>34181</th>\n",
       "      <td>6646-VRFOL</td>\n",
       "      <td>Male</td>\n",
       "      <td>1</td>\n",
       "      <td>Yes</td>\n",
       "      <td>No</td>\n",
       "      <td>53</td>\n",
       "      <td>Month-to-month</td>\n",
       "      <td>Yes</td>\n",
       "      <td>Electronic check</td>\n",
       "      <td>103.85</td>\n",
       "      <td>5485.5</td>\n",
       "      <td>Yes</td>\n",
       "      <td>OnlineBackup</td>\n",
       "      <td>Yes</td>\n",
       "    </tr>\n",
       "  </tbody>\n",
       "</table>\n",
       "</div>"
      ],
      "text/plain": [
       "       customerID  gender  SeniorCitizen Partner Dependents  tenure  \\\n",
       "28348  2656-FMOKZ  Female              1      No         No      15   \n",
       "19502  8961-QDZZJ  Female              0     Yes        Yes      57   \n",
       "35914  8338-QIUNR    Male              0     Yes        Yes      72   \n",
       "22964  8356-WUAOJ  Female              0     Yes         No       1   \n",
       "57299  9448-REEVD    Male              0     Yes         No       1   \n",
       "17513  9919-KNPOO  Female              0     Yes         No      21   \n",
       "39960  6116-RFVHN  Female              0     Yes         No      34   \n",
       "56929  5192-EBGOV  Female              1      No         No       1   \n",
       "191    2472-OVKUP    Male              0     Yes         No       6   \n",
       "34181  6646-VRFOL    Male              1     Yes         No      53   \n",
       "\n",
       "             Contract PaperlessBilling            PaymentMethod  \\\n",
       "28348  Month-to-month              Yes             Mailed check   \n",
       "19502        One year              Yes         Electronic check   \n",
       "35914        Two year              Yes  Credit card (automatic)   \n",
       "22964  Month-to-month              Yes         Electronic check   \n",
       "57299  Month-to-month               No  Credit card (automatic)   \n",
       "17513  Month-to-month              Yes         Electronic check   \n",
       "39960  Month-to-month              Yes         Electronic check   \n",
       "56929  Month-to-month              Yes         Electronic check   \n",
       "191    Month-to-month              Yes         Electronic check   \n",
       "34181  Month-to-month              Yes         Electronic check   \n",
       "\n",
       "       MonthlyCharges TotalCharges Churn           Service         Presence  \n",
       "28348           74.45       1145.7   Yes      OnlineBackup               No  \n",
       "19502           95.00       5535.8    No   InternetService  Yes,Fiber optic  \n",
       "35914           66.50       4811.6    No  DeviceProtection              Yes  \n",
       "22964           45.00           45    No    OnlineSecurity               No  \n",
       "57299           44.70         44.7   Yes   StreamingMovies               No  \n",
       "17513           94.30      1948.35    No   InternetService  Yes,Fiber optic  \n",
       "39960          100.45      3414.65    No  DeviceProtection              Yes  \n",
       "56929           85.70         85.7   Yes   StreamingMovies               No  \n",
       "191             91.00          531   Yes      PhoneService              Yes  \n",
       "34181          103.85       5485.5   Yes      OnlineBackup              Yes  "
      ]
     },
     "execution_count": 11,
     "metadata": {},
     "output_type": "execute_result"
    }
   ],
   "source": [
    "#Melting the dataset to put all the services under one column and their values to show presence or not under another column\n",
    "services =services.melt(id_vars=['customerID', 'gender','SeniorCitizen','Partner','Dependents','tenure','Contract','PaperlessBilling','PaymentMethod','MonthlyCharges','TotalCharges','Churn'],var_name='Service', value_name='Presence')\n",
    "#To confirm If the melting was correct\n",
    "services.sample(10)"
   ]
  },
  {
   "cell_type": "code",
   "execution_count": 12,
   "metadata": {},
   "outputs": [
    {
     "data": {
      "text/plain": [
       "No                     24347\n",
       "Yes                    23685\n",
       "No internet service     9156\n",
       "Yes,Fiber optic         3096\n",
       "Yes,DSL                 2421\n",
       "No phone service         682\n",
       "Name: Presence, dtype: int64"
      ]
     },
     "execution_count": 12,
     "metadata": {},
     "output_type": "execute_result"
    }
   ],
   "source": [
    "#Checking the values under the column Presence\n",
    "services['Presence'].value_counts()"
   ]
  },
  {
   "cell_type": "code",
   "execution_count": 13,
   "metadata": {},
   "outputs": [],
   "source": [
    "#Here, i use loc to get all the rows where the presence is Yes for all the services and the customers churned\n",
    "services= services.loc[(services['Presence'].isin(['Yes','Yes,Fiber optic','Yes,DSL']))]"
   ]
  },
  {
   "cell_type": "code",
   "execution_count": 14,
   "metadata": {},
   "outputs": [
    {
     "data": {
      "text/plain": [
       "Service           Churn\n",
       "DeviceProtection  No                                             79.2\n",
       "                  Yes                                   [99.5, 104.4]\n",
       "InternetService   No                                    [84.8, 89.85]\n",
       "                  Yes                                            74.4\n",
       "MultipleLines     No                                               25\n",
       "                  Yes                                            74.4\n",
       "OnlineBackup      No                                            89.85\n",
       "                  Yes                            [94.1, 100.2, 104.4]\n",
       "OnlineSecurity    No                      [59.75, 79.85, 81.0, 89.85]\n",
       "                  Yes                                            94.4\n",
       "PhoneService      No                                            20.05\n",
       "                  Yes                                            74.4\n",
       "StreamingMovies   No       [81.0, 99.0, 99.65, 100.3, 100.55, 105.35]\n",
       "                  Yes                                           93.85\n",
       "StreamingTV       No                                               99\n",
       "                  Yes                      [93.85, 94.4, 99.5, 104.4]\n",
       "TechSupport       No                                               81\n",
       "                  Yes                                          104.05\n",
       "Name: MonthlyCharges, dtype: object"
      ]
     },
     "execution_count": 14,
     "metadata": {},
     "output_type": "execute_result"
    }
   ],
   "source": [
    "services.groupby(['Service','Churn'])['MonthlyCharges'].agg(pd.Series.mode)"
   ]
  },
  {
   "cell_type": "markdown",
   "metadata": {},
   "source": [
    "###### Conclusion\n",
    "<br>\n",
    "-> From the above analysis:\n",
    "<br><br>\n",
    "*The 3 services contributing to a higher monthly charge and Causing customers to churn are:\n",
    "<br>\n",
    "    Device Protection,Online Backup and Streaming TV all having a high monthly charge of 104.4"
   ]
  },
  {
   "cell_type": "markdown",
   "metadata": {},
   "source": [
    "### b. If the telco was to offer Phone as a standalone service, which type of contract would encourage customer retention?"
   ]
  },
  {
   "cell_type": "code",
   "execution_count": 15,
   "metadata": {},
   "outputs": [
    {
     "data": {
      "text/plain": [
       "Service           Churn\n",
       "DeviceProtection  No             Two year\n",
       "                  Yes      Month-to-month\n",
       "InternetService   No       Month-to-month\n",
       "                  Yes      Month-to-month\n",
       "MultipleLines     No             Two year\n",
       "                  Yes      Month-to-month\n",
       "OnlineBackup      No             Two year\n",
       "                  Yes      Month-to-month\n",
       "OnlineSecurity    No             Two year\n",
       "                  Yes      Month-to-month\n",
       "PhoneService      No       Month-to-month\n",
       "                  Yes      Month-to-month\n",
       "StreamingMovies   No             Two year\n",
       "                  Yes      Month-to-month\n",
       "StreamingTV       No             Two year\n",
       "                  Yes      Month-to-month\n",
       "TechSupport       No             Two year\n",
       "                  Yes      Month-to-month\n",
       "Name: Contract, dtype: object"
      ]
     },
     "execution_count": 15,
     "metadata": {},
     "output_type": "execute_result"
    }
   ],
   "source": [
    "#For this we check on who have access to PhoneService(Yes), if they churned(No) and what their contract is.\n",
    "#We then get the most common contract(mode of the column contract)\n",
    "services.groupby(['Service','Churn'])['Contract'].agg(pd.Series.mode)"
   ]
  },
  {
   "cell_type": "markdown",
   "metadata": {},
   "source": [
    "### Conclusion\n",
    "<br>\n",
    "->From the above analysis:\n",
    "<br><br>\n",
    "*A Month-to-month contract would encourage retaintion of customers if the telco was to offer Phone as a standalone service"
   ]
  },
  {
   "cell_type": "markdown",
   "metadata": {},
   "source": [
    "# Question 3: Payment(Use visualizations in explaining your analysis)"
   ]
  },
  {
   "cell_type": "markdown",
   "metadata": {},
   "source": [
    "### a. If the company was to streamline all its services into 3 bouquet packages, what monthly prices will be appropriate for the following packages to keep customers from churning:\n",
    "i. Basic\n",
    "ii. Plus\n",
    "iii. Premium"
   ]
  },
  {
   "cell_type": "code",
   "execution_count": 16,
   "metadata": {},
   "outputs": [],
   "source": [
    "#For this case I would consider the Basic package as the cheapest, Plus package as the middle package and the premium as the most expensive\n",
    "\n",
    "#I would therefore use the quartiles on the monthly charges column to determine the prices from the customers who were retained(Churn= No)\n",
    "\n",
    "#First i get all customers who did not churn\n",
    "services= services.loc[services['Churn']==\"No\"]"
   ]
  },
  {
   "cell_type": "code",
   "execution_count": 17,
   "metadata": {},
   "outputs": [
    {
     "data": {
      "text/plain": [
       "62.150000000000006"
      ]
     },
     "execution_count": 17,
     "metadata": {},
     "output_type": "execute_result"
    }
   ],
   "source": [
    "#From the dataset of customers who did not churn we then get the 0.25 quartile of Monthly Charges for Basic for all services, 0.5quartile for Plus for all services and 0.75quartile for Premium for all services\n",
    "#For each quartile we then get the average \n",
    "#The Basic Package\n",
    "Basic=services.groupby(['Service','Churn'])['MonthlyCharges'].quantile(0.25).mean()\n",
    "Basic"
   ]
  },
  {
   "cell_type": "code",
   "execution_count": 18,
   "metadata": {},
   "outputs": [
    {
     "data": {
      "text/plain": [
       "82.87500000000001"
      ]
     },
     "execution_count": 18,
     "metadata": {},
     "output_type": "execute_result"
    }
   ],
   "source": [
    "#The Plus Package\n",
    "Plus=services.groupby(['Service','Churn'])['MonthlyCharges'].quantile(0.5).mean()\n",
    "Plus"
   ]
  },
  {
   "cell_type": "code",
   "execution_count": 19,
   "metadata": {},
   "outputs": [
    {
     "data": {
      "text/plain": [
       "98.72083333333333"
      ]
     },
     "execution_count": 19,
     "metadata": {},
     "output_type": "execute_result"
    }
   ],
   "source": [
    "#The Premium Package\n",
    "Premium=services.groupby(['Service','Churn'])['MonthlyCharges'].quantile(0.75).mean()\n",
    "Premium"
   ]
  },
  {
   "cell_type": "markdown",
   "metadata": {},
   "source": [
    "### Conclusion\n",
    "<br>\n",
    "->From the above analysis\n",
    "<br><br>\n",
    "*The Basic package would go for 62.15\n",
    "<br>\n",
    "*The Plus package would go for 82.88\n",
    "<br>\n",
    "*The Premium package would go for 98.72"
   ]
  },
  {
   "cell_type": "markdown",
   "metadata": {},
   "source": [
    "### b. Should the company strictly go paperless for their monthly billings as a technique of keeping their customers and why?"
   ]
  },
  {
   "cell_type": "code",
   "execution_count": 20,
   "metadata": {},
   "outputs": [
    {
     "data": {
      "text/plain": [
       "PaperlessBilling  Churn\n",
       "No                No        8341\n",
       "Yes               No       13251\n",
       "Name: Churn, dtype: int64"
      ]
     },
     "execution_count": 20,
     "metadata": {},
     "output_type": "execute_result"
    }
   ],
   "source": [
    "#In this case we look at the number of customers who were retained(Churn No) and were paying using paperless(Paperless Yes)\n",
    "services.groupby(['PaperlessBilling'])['Churn'].value_counts()"
   ]
  },
  {
   "cell_type": "markdown",
   "metadata": {},
   "source": [
    "### Conclusion\n",
    "\n",
    "<br>\n",
    "The company should strictly go paperless as most of their customers who have not churned use PaperlessBilling"
   ]
  },
  {
   "cell_type": "code",
   "execution_count": null,
   "metadata": {},
   "outputs": [],
   "source": []
  }
 ],
 "metadata": {
  "kernelspec": {
   "display_name": "Python 3",
   "language": "python",
   "name": "python3"
  },
  "language_info": {
   "codemirror_mode": {
    "name": "ipython",
    "version": 3
   },
   "file_extension": ".py",
   "mimetype": "text/x-python",
   "name": "python",
   "nbconvert_exporter": "python",
   "pygments_lexer": "ipython3",
   "version": "3.7.6"
  }
 },
 "nbformat": 4,
 "nbformat_minor": 4
}
